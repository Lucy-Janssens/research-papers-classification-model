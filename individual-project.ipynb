{
 "cells": [
  {
   "cell_type": "code",
   "execution_count": 2,
   "outputs": [],
   "source": [
    "import pandas as pd\n",
    "import matplotlib.pyplot as plt\n",
    "import seaborn as sns"
   ],
   "metadata": {
    "collapsed": false,
    "ExecuteTime": {
     "end_time": "2023-12-06T12:29:09.463619Z",
     "start_time": "2023-12-06T12:29:09.459679Z"
    }
   }
  },
  {
   "cell_type": "markdown",
   "source": [
    "# data analysis and preprocessing"
   ],
   "metadata": {
    "collapsed": false
   }
  },
  {
   "cell_type": "code",
   "execution_count": 3,
   "outputs": [
    {
     "data": {
      "text/plain": "   ID                                              TITLE  \\\n0   1        Reconstructing Subject-Specific Effect Maps   \n1   2                 Rotation Invariance Neural Network   \n2   3  Spherical polyharmonics and Poisson kernels fo...   \n3   4  A finite element approximation for the stochas...   \n4   5  Comparative study of Discrete Wavelet Transfor...   \n\n                                            ABSTRACT  Computer Science  \\\n0    Predictive models allow subject-specific inf...                 1   \n1    Rotation invariance and translation invarian...                 1   \n2    We introduce and develop the notion of spher...                 0   \n3    The stochastic Landau--Lifshitz--Gilbert (LL...                 0   \n4    Fourier-transform infra-red (FTIR) spectra o...                 1   \n\n   Physics  Mathematics  Statistics  Quantitative Biology  \\\n0        0            0           0                     0   \n1        0            0           0                     0   \n2        0            1           0                     0   \n3        0            1           0                     0   \n4        0            0           1                     0   \n\n   Quantitative Finance  \n0                     0  \n1                     0  \n2                     0  \n3                     0  \n4                     0  ",
      "text/html": "<div>\n<style scoped>\n    .dataframe tbody tr th:only-of-type {\n        vertical-align: middle;\n    }\n\n    .dataframe tbody tr th {\n        vertical-align: top;\n    }\n\n    .dataframe thead th {\n        text-align: right;\n    }\n</style>\n<table border=\"1\" class=\"dataframe\">\n  <thead>\n    <tr style=\"text-align: right;\">\n      <th></th>\n      <th>ID</th>\n      <th>TITLE</th>\n      <th>ABSTRACT</th>\n      <th>Computer Science</th>\n      <th>Physics</th>\n      <th>Mathematics</th>\n      <th>Statistics</th>\n      <th>Quantitative Biology</th>\n      <th>Quantitative Finance</th>\n    </tr>\n  </thead>\n  <tbody>\n    <tr>\n      <th>0</th>\n      <td>1</td>\n      <td>Reconstructing Subject-Specific Effect Maps</td>\n      <td>Predictive models allow subject-specific inf...</td>\n      <td>1</td>\n      <td>0</td>\n      <td>0</td>\n      <td>0</td>\n      <td>0</td>\n      <td>0</td>\n    </tr>\n    <tr>\n      <th>1</th>\n      <td>2</td>\n      <td>Rotation Invariance Neural Network</td>\n      <td>Rotation invariance and translation invarian...</td>\n      <td>1</td>\n      <td>0</td>\n      <td>0</td>\n      <td>0</td>\n      <td>0</td>\n      <td>0</td>\n    </tr>\n    <tr>\n      <th>2</th>\n      <td>3</td>\n      <td>Spherical polyharmonics and Poisson kernels fo...</td>\n      <td>We introduce and develop the notion of spher...</td>\n      <td>0</td>\n      <td>0</td>\n      <td>1</td>\n      <td>0</td>\n      <td>0</td>\n      <td>0</td>\n    </tr>\n    <tr>\n      <th>3</th>\n      <td>4</td>\n      <td>A finite element approximation for the stochas...</td>\n      <td>The stochastic Landau--Lifshitz--Gilbert (LL...</td>\n      <td>0</td>\n      <td>0</td>\n      <td>1</td>\n      <td>0</td>\n      <td>0</td>\n      <td>0</td>\n    </tr>\n    <tr>\n      <th>4</th>\n      <td>5</td>\n      <td>Comparative study of Discrete Wavelet Transfor...</td>\n      <td>Fourier-transform infra-red (FTIR) spectra o...</td>\n      <td>1</td>\n      <td>0</td>\n      <td>0</td>\n      <td>1</td>\n      <td>0</td>\n      <td>0</td>\n    </tr>\n  </tbody>\n</table>\n</div>"
     },
     "execution_count": 3,
     "metadata": {},
     "output_type": "execute_result"
    }
   ],
   "source": [
    "# Load the dataset\n",
    "train_data = pd.read_csv('./archive/train.csv')\n",
    "train_data.head()"
   ],
   "metadata": {
    "collapsed": false,
    "ExecuteTime": {
     "end_time": "2023-12-06T12:29:11.021181Z",
     "start_time": "2023-12-06T12:29:10.822535Z"
    }
   }
  },
  {
   "cell_type": "code",
   "execution_count": 4,
   "outputs": [
    {
     "name": "stdout",
     "output_type": "stream",
     "text": [
      "ID                      0\n",
      "TITLE                   0\n",
      "ABSTRACT                0\n",
      "Computer Science        0\n",
      "Physics                 0\n",
      "Mathematics             0\n",
      "Statistics              0\n",
      "Quantitative Biology    0\n",
      "Quantitative Finance    0\n",
      "dtype: int64\n",
      "Number of training examples: 20972\n"
     ]
    }
   ],
   "source": [
    "# print the number of missing values in each column\n",
    "print(train_data.isnull().sum())\n",
    "\n",
    "# print the len of the dataset\n",
    "print(f\"Number of training examples: {len(train_data)}\")"
   ],
   "metadata": {
    "collapsed": false,
    "ExecuteTime": {
     "end_time": "2023-12-06T12:29:11.331035Z",
     "start_time": "2023-12-06T12:29:11.328488Z"
    }
   }
  },
  {
   "cell_type": "code",
   "execution_count": 10,
   "outputs": [
    {
     "name": "stdout",
     "output_type": "stream",
     "text": [
      "Computer Science        0.409784\n",
      "Physics                 0.286716\n",
      "Mathematics             0.267881\n",
      "Statistics              0.248236\n",
      "Quantitative Biology    0.027990\n",
      "Quantitative Finance    0.011873\n",
      "dtype: float64\n",
      "Index(['ID', 'TITLE', 'ABSTRACT', 'Computer Science', 'Physics', 'Mathematics',\n",
      "       'Statistics', 'Quantitative Biology', 'Quantitative Finance'],\n",
      "      dtype='object')\n"
     ]
    }
   ],
   "source": [
    "# Calculate the proportion of each category\n",
    "category_proportions = train_data.iloc[:, 3:].mean()\n",
    "\n",
    "# Print the proportions to check the values\n",
    "print(category_proportions)\n",
    "print(train_data.columns)"
   ],
   "metadata": {
    "collapsed": false,
    "ExecuteTime": {
     "end_time": "2023-12-06T08:30:07.068222Z",
     "start_time": "2023-12-06T08:30:07.066020Z"
    }
   }
  },
  {
   "cell_type": "code",
   "execution_count": 11,
   "outputs": [
    {
     "data": {
      "text/plain": "<Figure size 1000x600 with 1 Axes>",
      "image/png": "[encoded data removed]"
     },
     "metadata": {},
     "output_type": "display_data"
    }
   ],
   "source": [
    "import matplotlib.pyplot as plt\n",
    "import seaborn as sns\n",
    "\n",
    "plt.figure(figsize=(10, 6))\n",
    "sns.barplot(x=category_proportions.index, y=category_proportions.values)\n",
    "plt.title('Proportion of Samples in Each Category')\n",
    "plt.ylabel('Proportion')\n",
    "plt.xlabel('Categories')\n",
    "plt.xticks(rotation=45)\n",
    "plt.show()"
   ],
   "metadata": {
    "collapsed": false,
    "ExecuteTime": {
     "end_time": "2023-12-06T08:30:08.668390Z",
     "start_time": "2023-12-06T08:30:08.564338Z"
    }
   }
  },
  {
   "cell_type": "markdown",
   "source": [
    "we can see that the dataset has not the best distribution of categories, which will affect the accuracy of the model.\n",
    "But the computer science, physics, mathematics and statistics categories are the most common ones, so the model will be better at predicting these categories."
   ],
   "metadata": {
    "collapsed": false
   }
  },
  {
   "cell_type": "code",
   "execution_count": 5,
   "outputs": [
    {
     "name": "stdout",
     "output_type": "stream",
     "text": [
      "[[1 0 0 0 0 0]\n",
      " [1 0 0 0 0 0]\n",
      " [0 0 1 0 0 0]\n",
      " ...\n",
      " [1 0 0 0 0 0]\n",
      " [0 0 1 1 0 0]\n",
      " [0 0 1 1 0 0]]\n"
     ]
    }
   ],
   "source": [
    "from tensorflow.keras.preprocessing.text import Tokenizer\n",
    "from tensorflow.keras.preprocessing.sequence import pad_sequences\n",
    "\n",
    "# Parameters (you can tune these)\n",
    "vocab_size = 10000\n",
    "max_length = 120\n",
    "trunc_type = 'post'\n",
    "padding_type = 'post'\n",
    "oov_tok = '<OOV>'\n",
    "\n",
    "# Combining TITLE and ABSTRACT for the input data\n",
    "all_text = train_data['TITLE'] + ' ' + train_data['ABSTRACT']\n",
    "\n",
    "# Tokenization\n",
    "tokenizer = Tokenizer(num_words=vocab_size, oov_token=oov_tok)\n",
    "tokenizer.fit_on_texts(all_text)\n",
    "word_index = tokenizer.word_index\n",
    "sequences = tokenizer.texts_to_sequences(all_text)\n",
    "padded = pad_sequences(sequences, maxlen=max_length, padding=padding_type, truncating=trunc_type)\n",
    "\n",
    "# Prepare target variables\n",
    "labels = train_data.iloc[:, 3:].values\n",
    "print(labels)"
   ],
   "metadata": {
    "collapsed": false,
    "ExecuteTime": {
     "end_time": "2023-12-06T12:29:20.845021Z",
     "start_time": "2023-12-06T12:29:18.893532Z"
    }
   }
  },
  {
   "cell_type": "code",
   "execution_count": 13,
   "outputs": [],
   "source": [
    "from sklearn.model_selection import train_test_split\n",
    "\n",
    "# Splitting the data into training and validation sets\n",
    "X_train, X_val, y_train, y_val = train_test_split(padded, labels, test_size=0.2, random_state=42)"
   ],
   "metadata": {
    "collapsed": false,
    "ExecuteTime": {
     "end_time": "2023-12-06T08:30:14.135372Z",
     "start_time": "2023-12-06T08:30:14.041387Z"
    }
   }
  },
  {
   "cell_type": "markdown",
   "source": [
    "# Experimenting with a MLP Model"
   ],
   "metadata": {
    "collapsed": false
   }
  },
  {
   "cell_type": "code",
   "execution_count": 9,
   "outputs": [],
   "source": [
    "# if on Apple Silicon M1\n",
    "from tensorflow.keras.optimizers.legacy import Adam"
   ],
   "metadata": {
    "collapsed": false,
    "ExecuteTime": {
     "end_time": "2023-12-06T08:24:18.015305Z",
     "start_time": "2023-12-06T08:24:18.013298Z"
    }
   }
  },
  {
   "cell_type": "code",
   "execution_count": 9,
   "outputs": [],
   "source": [
    "# otherwise\n",
    "#from tensorflow.keras.optimizers import Adam"
   ],
   "metadata": {
    "collapsed": false,
    "ExecuteTime": {
     "end_time": "2023-12-06T08:14:14.324114Z",
     "start_time": "2023-12-06T08:14:14.322280Z"
    }
   }
  },
  {
   "cell_type": "code",
   "execution_count": 16,
   "outputs": [
    {
     "name": "stdout",
     "output_type": "stream",
     "text": [
      "Model: \"sequential_2\"\n",
      "_________________________________________________________________\n",
      " Layer (type)                Output Shape              Param #   \n",
      "=================================================================\n",
      " embedding_2 (Embedding)     (None, 120, 16)           160000    \n",
      "                                                                 \n",
      " global_average_pooling1d_1  (None, 16)                0         \n",
      "  (GlobalAveragePooling1D)                                       \n",
      "                                                                 \n",
      " dense_4 (Dense)             (None, 24)                408       \n",
      "                                                                 \n",
      " dense_5 (Dense)             (None, 6)                 150       \n",
      "                                                                 \n",
      "=================================================================\n",
      "Total params: 160558 (627.18 KB)\n",
      "Trainable params: 160558 (627.18 KB)\n",
      "Non-trainable params: 0 (0.00 Byte)\n",
      "_________________________________________________________________\n"
     ]
    }
   ],
   "source": [
    "from tensorflow.keras.models import Sequential\n",
    "from tensorflow.keras.layers import Embedding, GlobalAveragePooling1D, Dense\n",
    "\n",
    "# Model parameters\n",
    "embedding_dim = 16\n",
    "\n",
    "# Build the model\n",
    "model = Sequential([\n",
    "    Embedding(vocab_size, embedding_dim, input_length=max_length),\n",
    "    GlobalAveragePooling1D(),\n",
    "    Dense(24, activation='relu'),\n",
    "    Dense(labels.shape[1], activation='sigmoid')  # Output layer with one neuron per category\n",
    "])\n",
    "\n",
    "model.compile(loss='binary_crossentropy', optimizer='Adam', metrics=['accuracy'])\n",
    "model.summary()"
   ],
   "metadata": {
    "collapsed": false,
    "ExecuteTime": {
     "end_time": "2023-12-06T12:46:57.515371Z",
     "start_time": "2023-12-06T12:46:57.482960Z"
    }
   }
  },
  {
   "cell_type": "code",
   "execution_count": 18,
   "outputs": [
    {
     "data": {
      "image/png": "[encoded data removed]",
      "text/plain": "<IPython.core.display.Image object>"
     },
     "execution_count": 18,
     "metadata": {},
     "output_type": "execute_result"
    }
   ],
   "source": [
    "from tensorflow.keras.utils import plot_model\n",
    "\n",
    "plot_model(model, to_file='model_plot.png', show_shapes=True, show_layer_names=True, rankdir='LR')"
   ],
   "metadata": {
    "collapsed": false,
    "ExecuteTime": {
     "end_time": "2023-12-06T12:47:28.446174Z",
     "start_time": "2023-12-06T12:47:28.209593Z"
    }
   }
  },
  {
   "cell_type": "code",
   "execution_count": null,
   "outputs": [
    {
     "name": "stdout",
     "output_type": "stream",
     "text": [
      "Epoch 1/20\n"
     ]
    }
   ],
   "source": [
    "# Training parameters\n",
    "epochs = 20\n",
    "batch_size = 64\n",
    "\n",
    "# Train the model\n",
    "history = model.fit(X_train, y_train, epochs=epochs, batch_size=batch_size,\n",
    "                    validation_data=(X_val, y_val), verbose=1)"
   ],
   "metadata": {
    "collapsed": false,
    "is_executing": true,
    "ExecuteTime": {
     "start_time": "2023-12-06T08:21:58.089416Z"
    }
   }
  },
  {
   "cell_type": "code",
   "execution_count": null,
   "outputs": [],
   "source": [
    "# Plotting training and validation accuracy\n",
    "plt.figure(figsize=(12, 4))\n",
    "plt.subplot(1, 2, 1)\n",
    "plt.plot(history.history['accuracy'], label='Training Accuracy')\n",
    "plt.plot(history.history['val_accuracy'], label='Validation Accuracy')\n",
    "plt.title('Training and Validation Accuracy')\n",
    "plt.legend()\n",
    "\n",
    "# Plotting training and validation loss\n",
    "plt.subplot(1, 2, 2)\n",
    "plt.plot(history.history['loss'], label='Training Loss')\n",
    "plt.plot(history.history['val_loss'], label='Validation Loss')\n",
    "plt.title('Training and Validation Loss')\n",
    "plt.legend()\n",
    "plt.show()"
   ],
   "metadata": {
    "collapsed": false,
    "is_executing": true
   }
  },
  {
   "cell_type": "code",
   "execution_count": null,
   "outputs": [],
   "source": [
    "# save the model\n",
    "model.save('research_paper_classification3.keras')"
   ],
   "metadata": {
    "collapsed": false,
    "is_executing": true
   }
  },
  {
   "cell_type": "code",
   "execution_count": null,
   "outputs": [],
   "source": [
    "# evaluate the model in % of accuracy\n",
    "loss, accuracy = model.evaluate(X_val, y_val, verbose=2)\n",
    "\n",
    "# Print the accuracy\n",
    "print(f\"Accuracy: {accuracy * 100:.2f}%\")\n"
   ],
   "metadata": {
    "collapsed": false,
    "is_executing": true
   }
  },
  {
   "cell_type": "code",
   "execution_count": null,
   "outputs": [],
   "source": [
    "from sklearn.metrics import classification_report\n",
    "\n",
    "# Get binary predictions for the validation set\n",
    "val_predictions = (model.predict(X_val) > 0.5).astype(int)\n",
    "\n",
    "# Print classification report\n",
    "print(classification_report(y_val, val_predictions, target_names=category_names))"
   ],
   "metadata": {
    "collapsed": false,
    "is_executing": true
   }
  },
  {
   "cell_type": "markdown",
   "source": [
    "# Making Predictions on Test Data"
   ],
   "metadata": {
    "collapsed": false
   }
  },
  {
   "cell_type": "code",
   "execution_count": 3,
   "outputs": [
    {
     "name": "stderr",
     "output_type": "stream",
     "text": [
      "2023-12-06 10:29:46.420395: I metal_plugin/src/device/metal_device.cc:1154] Metal device set to: Apple M1 Pro\n",
      "2023-12-06 10:29:46.420416: I metal_plugin/src/device/metal_device.cc:296] systemMemory: 16.00 GB\n",
      "2023-12-06 10:29:46.420422: I metal_plugin/src/device/metal_device.cc:313] maxCacheSize: 5.33 GB\n",
      "2023-12-06 10:29:46.420448: I tensorflow/core/common_runtime/pluggable_device/pluggable_device_factory.cc:306] Could not identify NUMA node of platform GPU ID 0, defaulting to 0. Your kernel may not have been built with NUMA support.\n",
      "2023-12-06 10:29:46.420462: I tensorflow/core/common_runtime/pluggable_device/pluggable_device_factory.cc:272] Created TensorFlow device (/job:localhost/replica:0/task:0/device:GPU:0 with 0 MB memory) -> physical PluggableDevice (device: 0, name: METAL, pci bus id: <undefined>)\n"
     ]
    }
   ],
   "source": [
    "# load the model\n",
    "from tensorflow.keras.models import load_model\n",
    "\n",
    "model = load_model('research_paper_classification3.keras', compile=False) # model with the best accuracy 77.33%\n",
    "model.compile()"
   ],
   "metadata": {
    "collapsed": false,
    "ExecuteTime": {
     "end_time": "2023-12-06T08:29:46.956786Z",
     "start_time": "2023-12-06T08:29:43.909714Z"
    }
   }
  },
  {
   "cell_type": "code",
   "execution_count": 4,
   "outputs": [
    {
     "name": "stdout",
     "output_type": "stream",
     "text": [
      "Number of test examples: 8989\n"
     ]
    }
   ],
   "source": [
    "import pandas as pd\n",
    "\n",
    "# Load the test dataset\n",
    "test_data = pd.read_csv('archive/test.csv')\n",
    "# print the len of the dataset\n",
    "print(f\"Number of test examples: {len(test_data)}\")\n",
    "\n",
    "# Combining TITLE and ABSTRACT for the input data\n",
    "test_text = test_data['TITLE'] + ' ' + test_data['ABSTRACT']"
   ],
   "metadata": {
    "collapsed": false,
    "ExecuteTime": {
     "end_time": "2023-12-06T08:29:48.170645Z",
     "start_time": "2023-12-06T08:29:48.086454Z"
    }
   }
  },
  {
   "cell_type": "code",
   "execution_count": 14,
   "outputs": [],
   "source": [
    "import numpy as np\n",
    "from tensorflow.keras.preprocessing.sequence import pad_sequences\n",
    "from tensorflow.keras.preprocessing.text import Tokenizer\n",
    "\n",
    "# Preprocess the test data\n",
    "test_sequences = tokenizer.texts_to_sequences(test_text)\n",
    "test_padded = pad_sequences(test_sequences, maxlen=max_length, padding=padding_type, truncating=trunc_type)"
   ],
   "metadata": {
    "collapsed": false,
    "ExecuteTime": {
     "end_time": "2023-12-06T08:30:21.297152Z",
     "start_time": "2023-12-06T08:30:20.976832Z"
    }
   }
  },
  {
   "cell_type": "code",
   "execution_count": 15,
   "outputs": [
    {
     "name": "stderr",
     "output_type": "stream",
     "text": [
      "2023-12-06 10:30:22.383378: I tensorflow/core/grappler/optimizers/custom_graph_optimizer_registry.cc:117] Plugin optimizer for device_type GPU is enabled.\n"
     ]
    },
    {
     "name": "stdout",
     "output_type": "stream",
     "text": [
      "281/281 [==============================] - 1s 3ms/step\n"
     ]
    }
   ],
   "source": [
    "# Make predictions\n",
    "predictions = model.predict(test_padded)"
   ],
   "metadata": {
    "collapsed": false,
    "ExecuteTime": {
     "end_time": "2023-12-06T08:30:23.700161Z",
     "start_time": "2023-12-06T08:30:22.319244Z"
    }
   }
  },
  {
   "cell_type": "code",
   "execution_count": 16,
   "outputs": [],
   "source": [
    "# Applying a threshold to convert probabilities to binary values\n",
    "threshold = 0.5\n",
    "number_of_papers = 10\n",
    "binary_predictions = (predictions > threshold).astype(int)"
   ],
   "metadata": {
    "collapsed": false,
    "ExecuteTime": {
     "end_time": "2023-12-06T08:30:24.611006Z",
     "start_time": "2023-12-06T08:30:24.607412Z"
    }
   }
  },
  {
   "cell_type": "code",
   "execution_count": 17,
   "outputs": [
    {
     "name": "stdout",
     "output_type": "stream",
     "text": [
      "[[0 0 0 1 0 0]\n",
      " [0 1 0 0 0 0]\n",
      " [1 0 0 0 0 0]\n",
      " [0 1 0 0 0 0]\n",
      " [1 0 0 0 0 0]\n",
      " [0 0 0 1 0 0]\n",
      " [0 0 1 1 0 0]\n",
      " [0 1 0 0 0 0]\n",
      " [1 0 0 0 0 0]\n",
      " [0 1 0 0 0 0]]\n"
     ]
    }
   ],
   "source": [
    "# Displaying the first few binary predictions\n",
    "print(binary_predictions[:number_of_papers])"
   ],
   "metadata": {
    "collapsed": false,
    "ExecuteTime": {
     "end_time": "2023-12-06T08:30:26.247318Z",
     "start_time": "2023-12-06T08:30:26.244491Z"
    }
   }
  },
  {
   "cell_type": "code",
   "execution_count": 18,
   "outputs": [
    {
     "name": "stdout",
     "output_type": "stream",
     "text": [
      "Test Sample 1: ['Statistics']\n",
      "Test Sample 2: ['Physics']\n",
      "Test Sample 3: ['Computer Science']\n",
      "Test Sample 4: ['Physics']\n",
      "Test Sample 5: ['Computer Science']\n",
      "Test Sample 6: ['Statistics']\n",
      "Test Sample 7: ['Mathematics', 'Statistics']\n",
      "Test Sample 8: ['Physics']\n",
      "Test Sample 9: ['Computer Science']\n",
      "Test Sample 10: ['Physics']\n"
     ]
    }
   ],
   "source": [
    "# Assuming you have a list of category names corresponding to the order in your label columns\n",
    "category_names = ['Computer Science', 'Physics', 'Mathematics', 'Statistics', 'Quantitative Biology', 'Quantitative Finance']\n",
    "\n",
    "# Function to map binary predictions to category names\n",
    "def map_predictions(binary_preds, category_names):\n",
    "    pred_labels = []\n",
    "    for pred in binary_preds:\n",
    "        labels = [category_names[i] for i, val in enumerate(pred) if val == 1]\n",
    "        pred_labels.append(labels)\n",
    "    return pred_labels\n",
    "\n",
    "# Mapping the first few predictions\n",
    "mapped_predictions = map_predictions(binary_predictions[:number_of_papers], category_names)\n",
    "\n",
    "# Display mapped predictions\n",
    "for i, pred in enumerate(mapped_predictions):\n",
    "    print(f\"Test Sample {i+1}: {pred if pred else 'No Categories Predicted'}\")"
   ],
   "metadata": {
    "collapsed": false,
    "ExecuteTime": {
     "end_time": "2023-12-06T08:30:27.755607Z",
     "start_time": "2023-12-06T08:30:27.753546Z"
    }
   }
  },
  {
   "cell_type": "code",
   "execution_count": 19,
   "outputs": [
    {
     "name": "stdout",
     "output_type": "stream",
     "text": [
      "Test Sample 1:\n",
      "Title: Closed-form Marginal Likelihood in Gamma-Poisson Matrix Factorization\n",
      "Abstract:   We present novel understandings of the Gamma-Poisson (GaP) model, a\n",
      "probabilistic matrix factorization model for count data. We show that GaP can\n",
      "be rewritten free of the score/activation matrix. This gives us new insights\n",
      "about the estimation of the topic/dictionary matrix by maximum marginal\n",
      "likelihood estimation. In particular, this explains the robustness of this\n",
      "estimator to over-specified values of the factorization rank, especially its\n",
      "ability to automatically prune irrelevant dictionary columns, as empirically\n",
      "observed in previous work. The marginalization of the activation matrix leads\n",
      "in turn to a new Monte Carlo Expectation-Maximization algorithm with favorable\n",
      "properties.\n",
      "\n",
      "Predicted Categories: ['Statistics']\n",
      "\n",
      "\n",
      "Test Sample 2:\n",
      "Title: Laboratory mid-IR spectra of equilibrated and igneous meteorites. Searching for observables of planetesimal debris\n",
      "Abstract:   Meteorites contain minerals from Solar System asteroids with different\n",
      "properties (like size, presence of water, core formation). We provide new\n",
      "mid-IR transmission spectra of powdered meteorites to obtain templates of how\n",
      "mid-IR spectra of asteroidal debris would look like. This is essential for\n",
      "interpreting mid-IR spectra of past and future space observatories, like the\n",
      "James Webb Space Telescope. We show that the transmission spectra of wet and\n",
      "dry chondrites, carbonaceous and ordinary chondrites and achondrite and\n",
      "chondrite meteorites are distinctly different in a way one can distinguish in\n",
      "astronomical mid-IR spectra. The two observables that spectroscopically\n",
      "separate the different meteorites groups (and thus the different types of\n",
      "parent bodies) are the pyroxene-olivine feature strength ratio and the peak\n",
      "shift of the olivine spectral features due to an increase in the iron\n",
      "concentration of the olivine.\n",
      "\n",
      "Predicted Categories: ['Physics']\n",
      "\n",
      "\n",
      "Test Sample 3:\n",
      "Title: Case For Static AMSDU Aggregation in WLANs\n",
      "Abstract:   Frame aggregation is a mechanism by which multiple frames are combined into a\n",
      "single transmission unit over the air. Frames aggregated at the AMSDU level use\n",
      "a common CRC check to enforce integrity. For longer aggregated AMSDU frames,\n",
      "the packet error rate increases significantly for the same bit error rate.\n",
      "Hence, multiple studies have proposed doing AMSDU aggregation adaptively based\n",
      "on the error rate. This study evaluates if there is a \\emph{practical}\n",
      "advantage in doing adaptive AMSDU aggregation based on the link bit error rate.\n",
      "Evaluations on a model show that instead of implementing a complex adaptive\n",
      "AMSDU frame aggregation mechanism which impact queuing and other implementation\n",
      "aspects, it is easier to influence packet error rate with traditional\n",
      "mechanisms while keeping the AMSDU aggregation logic simple.\n",
      "\n",
      "Predicted Categories: ['Computer Science']\n",
      "\n",
      "\n",
      "Test Sample 4:\n",
      "Title: The $Gaia$-ESO Survey: the inner disk intermediate-age open cluster NGC 6802\n",
      "Abstract:   Milky Way open clusters are very diverse in terms of age, chemical\n",
      "composition, and kinematic properties. Intermediate-age and old open clusters\n",
      "are less common, and it is even harder to find them inside the solar\n",
      "Galactocentric radius, due to the high mortality rate and strong extinction\n",
      "inside this region. NGC 6802 is one of the inner disk open clusters (IOCs)\n",
      "observed by the $Gaia$-ESO survey (GES). This cluster is an important target\n",
      "for calibrating the abundances derived in the survey due to the kinematic and\n",
      "chemical homogeneity of the members in open clusters. Using the measurements\n",
      "from $Gaia$-ESO internal data release 4 (iDR4), we identify 95 main-sequence\n",
      "dwarfs as cluster members from the GIRAFFE target list, and eight giants as\n",
      "cluster members from the UVES target list. The dwarf cluster members have a\n",
      "median radial velocity of $13.6\\pm1.9$ km s$^{-1}$, while the giant cluster\n",
      "members have a median radial velocity of $12.0\\pm0.9$ km s$^{-1}$ and a median\n",
      "[Fe/H] of $0.10\\pm0.02$ dex. The color-magnitude diagram of these cluster\n",
      "members suggests an age of $0.9\\pm0.1$ Gyr, with $(m-M)_0=11.4$ and\n",
      "$E(B-V)=0.86$. We perform the first detailed chemical abundance analysis of NGC\n",
      "6802, including 27 elemental species. To gain a more general picture about\n",
      "IOCs, the measurements of NGC 6802 are compared with those of other IOCs\n",
      "previously studied by GES, that is, NGC 4815, Trumpler 20, NGC 6705, and\n",
      "Berkeley 81. NGC 6802 shows similar C, N, Na, and Al abundances as other IOCs.\n",
      "These elements are compared with nucleosynthetic models as a function of\n",
      "cluster turn-off mass. The $\\alpha$, iron-peak, and neutron-capture elements\n",
      "are also explored in a self-consistent way.\n",
      "\n",
      "Predicted Categories: ['Physics']\n",
      "\n",
      "\n",
      "Test Sample 5:\n",
      "Title: Witness-Functions versus Interpretation-Functions for Secrecy in Cryptographic Protocols: What to Choose?\n",
      "Abstract:   Proving that a cryptographic protocol is correct for secrecy is a hard task.\n",
      "One of the strongest strategies to reach this goal is to show that it is\n",
      "increasing, which means that the security level of every single atomic message\n",
      "exchanged in the protocol, safely evaluated, never deceases. Recently, two\n",
      "families of functions have been proposed to measure the security level of\n",
      "atomic messages. The first one is the family of interpretation-functions. The\n",
      "second is the family of witness-functions. In this paper, we show that the\n",
      "witness-functions are more efficient than interpretation-functions. We give a\n",
      "detailed analysis of an ad-hoc protocol on which the witness-functions succeed\n",
      "in proving its correctness for secrecy while the interpretation-functions fail\n",
      "to do so.\n",
      "\n",
      "Predicted Categories: ['Computer Science']\n",
      "\n",
      "\n",
      "Test Sample 6:\n",
      "Title: Pairwise Difference Estimation of High Dimensional Partially Linear Model\n",
      "Abstract:   This paper proposes a regularized pairwise difference approach for estimating\n",
      "the linear component coefficient in a partially linear model, with consistency\n",
      "and exact rates of convergence obtained in high dimensions under mild scaling\n",
      "requirements. Our analysis reveals interesting features such as (i) the\n",
      "bandwidth parameter automatically adapts to the model and is actually\n",
      "tuning-insensitive; and (ii) the procedure could even maintain fast rate of\n",
      "convergence for $\\alpha$-Hölder class of $\\alpha\\leq1/2$. Simulation studies\n",
      "show the advantage of the proposed method, and application of our approach to a\n",
      "brain imaging data reveals some biological patterns which fail to be recovered\n",
      "using competing methods.\n",
      "\n",
      "Predicted Categories: ['Statistics']\n",
      "\n",
      "\n",
      "Test Sample 7:\n",
      "Title: Dissecting the multivariate extremal index and tail dependence\n",
      "Abstract:   A central issue in the theory of extreme values focuses on suitable\n",
      "conditions such that the well-known results for the limiting distributions of\n",
      "the maximum of i.i.d. sequences can be applied to stationary ones. In this\n",
      "context, the extremal index appears as a key parameter to capture the effect of\n",
      "temporal dependence on the limiting distribution of the maxima. The\n",
      "multivariate extremal index corresponds to a generalization of this concept to\n",
      "a multivariate context and affects the tail dependence structure within the\n",
      "marginal sequences and between them. As it is a function, the inference becomes\n",
      "more difficult, and it is therefore important to obtain characterizations,\n",
      "namely bounds based on the marginal dependence that are easier to estimate. In\n",
      "this work we present two decompositions that emphasize different types of\n",
      "information contained in the multivariate extremal index, an upper limit better\n",
      "than those found in the literature and we analyze its role in dependence on the\n",
      "limiting model of the componentwise maxima of a stationary sequence. We will\n",
      "illustrate the results with examples of recognized interest in applications.\n",
      "\n",
      "Predicted Categories: ['Mathematics', 'Statistics']\n",
      "\n",
      "\n",
      "Test Sample 8:\n",
      "Title: Big Universe, Big Data: Machine Learning and Image Analysis for Astronomy\n",
      "Abstract:   Astrophysics and cosmology are rich with data. The advent of wide-area\n",
      "digital cameras on large aperture telescopes has led to ever more ambitious\n",
      "surveys of the sky. Data volumes of entire surveys a decade ago can now be\n",
      "acquired in a single night and real-time analysis is often desired. Thus,\n",
      "modern astronomy requires big data know-how, in particular it demands highly\n",
      "efficient machine learning and image analysis algorithms. But scalability is\n",
      "not the only challenge: Astronomy applications touch several current machine\n",
      "learning research questions, such as learning from biased data and dealing with\n",
      "label and measurement noise. We argue that this makes astronomy a great domain\n",
      "for computer science research, as it pushes the boundaries of data analysis. In\n",
      "the following, we will present this exciting application area for data\n",
      "scientists. We will focus on exemplary results, discuss main challenges, and\n",
      "highlight some recent methodological advancements in machine learning and image\n",
      "analysis triggered by astronomical applications.\n",
      "\n",
      "Predicted Categories: ['Physics']\n",
      "\n",
      "\n",
      "Test Sample 9:\n",
      "Title: Natural Language Does Not Emerge 'Naturally' in Multi-Agent Dialog\n",
      "Abstract:   A number of recent works have proposed techniques for end-to-end learning of\n",
      "communication protocols among cooperative multi-agent populations, and have\n",
      "simultaneously found the emergence of grounded human-interpretable language in\n",
      "the protocols developed by the agents, all learned without any human\n",
      "supervision!\n",
      "In this paper, using a Task and Tell reference game between two agents as a\n",
      "testbed, we present a sequence of 'negative' results culminating in a\n",
      "'positive' one -- showing that while most agent-invented languages are\n",
      "effective (i.e. achieve near-perfect task rewards), they are decidedly not\n",
      "interpretable or compositional.\n",
      "In essence, we find that natural language does not emerge 'naturally',\n",
      "despite the semblance of ease of natural-language-emergence that one may gather\n",
      "from recent literature. We discuss how it is possible to coax the invented\n",
      "languages to become more and more human-like and compositional by increasing\n",
      "restrictions on how two agents may communicate.\n",
      "\n",
      "Predicted Categories: ['Computer Science']\n",
      "\n",
      "\n",
      "Test Sample 10:\n",
      "Title: Properties and Origin of Galaxy Velocity Bias in the Illustris Simulation\n",
      "Abstract:   We use the hydrodynamical galaxy formation simulations from the Illustris\n",
      "suite to study the origin and properties of galaxy velocity bias, i.e., the\n",
      "difference between the velocity distributions of galaxies and dark matter\n",
      "inside halos. We find that galaxy velocity bias is a decreasing function of the\n",
      "ratio of galaxy stellar mass to host halo mass. In general, central galaxies\n",
      "are not at rest with respect to dark matter halos or the core of halos, with a\n",
      "velocity dispersion above 0.04 times that of the dark matter. The central\n",
      "galaxy velocity bias is found to be mostly caused by the close interactions\n",
      "between the central and satellite galaxies. For satellite galaxies, the\n",
      "velocity bias is related to their dynamical and tidal evolution history after\n",
      "being accreted onto the host halos. It depends on the time after the accretion\n",
      "and their distances from the halo centers, with massive satellites generally\n",
      "moving more slowly than the dark matter. The results are in broad agreements\n",
      "with those inferred from modeling small-scale redshift-space galaxy clustering\n",
      "data, and the study can help improve models of redshift-space galaxy\n",
      "clustering.\n",
      "\n",
      "Predicted Categories: ['Physics']\n",
      "\n",
      "\n"
     ]
    }
   ],
   "source": [
    "# Display predictions with test data for the first few samples\n",
    "for i in range(number_of_papers):\n",
    "    print(f\"Test Sample {i+1}:\")\n",
    "    print(f\"Title: {test_data['TITLE'].iloc[i]}\")\n",
    "    print(f\"Abstract: {test_data['ABSTRACT'].iloc[i]}\")\n",
    "    print(f\"Predicted Categories: {mapped_predictions[i] if mapped_predictions[i] else 'No Categories Predicted'}\")\n",
    "    print(\"\\n\")"
   ],
   "metadata": {
    "collapsed": false,
    "ExecuteTime": {
     "end_time": "2023-12-06T08:30:30.699402Z",
     "start_time": "2023-12-06T08:30:30.695119Z"
    }
   }
  },
  {
   "cell_type": "code",
   "execution_count": 20,
   "outputs": [],
   "source": [
    "# Save predictions in a dataframe\n",
    "submission_df = pd.DataFrame(columns=['ID'] + category_names)\n",
    "submission_df['ID'] = test_data['ID'].values\n",
    "# add title and abstract columns\n",
    "submission_df['TITLE'] = test_data['TITLE'].values\n",
    "submission_df['ABSTRACT'] = test_data['ABSTRACT'].values\n",
    "# add predictions\n",
    "submission_df[category_names] = binary_predictions"
   ],
   "metadata": {
    "collapsed": false,
    "ExecuteTime": {
     "end_time": "2023-12-06T08:30:32.425891Z",
     "start_time": "2023-12-06T08:30:32.422635Z"
    }
   }
  },
  {
   "cell_type": "code",
   "execution_count": 21,
   "outputs": [
    {
     "data": {
      "text/plain": "       ID  Computer Science  Physics  Mathematics  Statistics  \\\n0   20973                 0        0            0           1   \n1   20974                 0        1            0           0   \n2   20975                 1        0            0           0   \n3   20976                 0        1            0           0   \n4   20977                 1        0            0           0   \n5   20978                 0        0            0           1   \n6   20979                 0        0            1           1   \n7   20980                 0        1            0           0   \n8   20981                 1        0            0           0   \n9   20982                 0        1            0           0   \n10  20983                 0        1            0           0   \n11  20984                 1        0            0           0   \n12  20985                 0        1            1           0   \n13  20986                 0        0            0           0   \n14  20987                 1        0            0           1   \n15  20988                 1        0            0           0   \n16  20989                 0        1            0           0   \n17  20990                 1        0            0           0   \n18  20991                 1        0            0           0   \n19  20992                 1        0            0           0   \n\n    Quantitative Biology  Quantitative Finance  \\\n0                      0                     0   \n1                      0                     0   \n2                      0                     0   \n3                      0                     0   \n4                      0                     0   \n5                      0                     0   \n6                      0                     0   \n7                      0                     0   \n8                      0                     0   \n9                      0                     0   \n10                     0                     0   \n11                     0                     0   \n12                     0                     0   \n13                     0                     0   \n14                     0                     0   \n15                     0                     0   \n16                     0                     0   \n17                     0                     0   \n18                     0                     0   \n19                     0                     0   \n\n                                                TITLE  \\\n0   Closed-form Marginal Likelihood in Gamma-Poiss...   \n1   Laboratory mid-IR spectra of equilibrated and ...   \n2          Case For Static AMSDU Aggregation in WLANs   \n3   The $Gaia$-ESO Survey: the inner disk intermed...   \n4   Witness-Functions versus Interpretation-Functi...   \n5   Pairwise Difference Estimation of High Dimensi...   \n6   Dissecting the multivariate extremal index and...   \n7   Big Universe, Big Data: Machine Learning and I...   \n8   Natural Language Does Not Emerge 'Naturally' i...   \n9   Properties and Origin of Galaxy Velocity Bias ...   \n10  Computer Modeling of Halogen Bonds and Other $...   \n11  Towards Universal End-to-End Affect Recognitio...   \n12  A Variational Characterization of Fluid Sloshi...   \n13  diagnoseIT: Expertengestützte automatische Dia...   \n14  Statistical Inference in Political Networks Re...   \n15  Controller-jammer game models of Denial of Ser...   \n16  Conservation of spin supercurrents in supercon...   \n17  Driver Identification Using Automobile Sensor ...   \n18  Same-different problems strain convolutional n...   \n19  Hyper-dimensional computing for a visual quest...   \n\n                                             ABSTRACT  \n0     We present novel understandings of the Gamma...  \n1     Meteorites contain minerals from Solar Syste...  \n2     Frame aggregation is a mechanism by which mu...  \n3     Milky Way open clusters are very diverse in ...  \n4     Proving that a cryptographic protocol is cor...  \n5     This paper proposes a regularized pairwise d...  \n6     A central issue in the theory of extreme val...  \n7     Astrophysics and cosmology are rich with dat...  \n8     A number of recent works have proposed techn...  \n9     We use the hydrodynamical galaxy formation s...  \n10    In the field of noncovalent interactions a n...  \n11    We propose an end-to-end affect recognition ...  \n12    We consider the sloshing problem for an inco...  \n13    This is the final report of the collaborativ...  \n14    Researchers interested in statistically mode...  \n15    The paper introduces a class of zero-sum gam...  \n16    We demonstrate that spin supercurrents are c...  \n17    As automotive electronics continue to advanc...  \n18    The robust and efficient recognition of visu...  \n19    In this work we propose a system for visual ...  ",
      "text/html": "<div>\n<style scoped>\n    .dataframe tbody tr th:only-of-type {\n        vertical-align: middle;\n    }\n\n    .dataframe tbody tr th {\n        vertical-align: top;\n    }\n\n    .dataframe thead th {\n        text-align: right;\n    }\n</style>\n<table border=\"1\" class=\"dataframe\">\n  <thead>\n    <tr style=\"text-align: right;\">\n      <th></th>\n      <th>ID</th>\n      <th>Computer Science</th>\n      <th>Physics</th>\n      <th>Mathematics</th>\n      <th>Statistics</th>\n      <th>Quantitative Biology</th>\n      <th>Quantitative Finance</th>\n      <th>TITLE</th>\n      <th>ABSTRACT</th>\n    </tr>\n  </thead>\n  <tbody>\n    <tr>\n      <th>0</th>\n      <td>20973</td>\n      <td>0</td>\n      <td>0</td>\n      <td>0</td>\n      <td>1</td>\n      <td>0</td>\n      <td>0</td>\n      <td>Closed-form Marginal Likelihood in Gamma-Poiss...</td>\n      <td>We present novel understandings of the Gamma...</td>\n    </tr>\n    <tr>\n      <th>1</th>\n      <td>20974</td>\n      <td>0</td>\n      <td>1</td>\n      <td>0</td>\n      <td>0</td>\n      <td>0</td>\n      <td>0</td>\n      <td>Laboratory mid-IR spectra of equilibrated and ...</td>\n      <td>Meteorites contain minerals from Solar Syste...</td>\n    </tr>\n    <tr>\n      <th>2</th>\n      <td>20975</td>\n      <td>1</td>\n      <td>0</td>\n      <td>0</td>\n      <td>0</td>\n      <td>0</td>\n      <td>0</td>\n      <td>Case For Static AMSDU Aggregation in WLANs</td>\n      <td>Frame aggregation is a mechanism by which mu...</td>\n    </tr>\n    <tr>\n      <th>3</th>\n      <td>20976</td>\n      <td>0</td>\n      <td>1</td>\n      <td>0</td>\n      <td>0</td>\n      <td>0</td>\n      <td>0</td>\n      <td>The $Gaia$-ESO Survey: the inner disk intermed...</td>\n      <td>Milky Way open clusters are very diverse in ...</td>\n    </tr>\n    <tr>\n      <th>4</th>\n      <td>20977</td>\n      <td>1</td>\n      <td>0</td>\n      <td>0</td>\n      <td>0</td>\n      <td>0</td>\n      <td>0</td>\n      <td>Witness-Functions versus Interpretation-Functi...</td>\n      <td>Proving that a cryptographic protocol is cor...</td>\n    </tr>\n    <tr>\n      <th>5</th>\n      <td>20978</td>\n      <td>0</td>\n      <td>0</td>\n      <td>0</td>\n      <td>1</td>\n      <td>0</td>\n      <td>0</td>\n      <td>Pairwise Difference Estimation of High Dimensi...</td>\n      <td>This paper proposes a regularized pairwise d...</td>\n    </tr>\n    <tr>\n      <th>6</th>\n      <td>20979</td>\n      <td>0</td>\n      <td>0</td>\n      <td>1</td>\n      <td>1</td>\n      <td>0</td>\n      <td>0</td>\n      <td>Dissecting the multivariate extremal index and...</td>\n      <td>A central issue in the theory of extreme val...</td>\n    </tr>\n    <tr>\n      <th>7</th>\n      <td>20980</td>\n      <td>0</td>\n      <td>1</td>\n      <td>0</td>\n      <td>0</td>\n      <td>0</td>\n      <td>0</td>\n      <td>Big Universe, Big Data: Machine Learning and I...</td>\n      <td>Astrophysics and cosmology are rich with dat...</td>\n    </tr>\n    <tr>\n      <th>8</th>\n      <td>20981</td>\n      <td>1</td>\n      <td>0</td>\n      <td>0</td>\n      <td>0</td>\n      <td>0</td>\n      <td>0</td>\n      <td>Natural Language Does Not Emerge 'Naturally' i...</td>\n      <td>A number of recent works have proposed techn...</td>\n    </tr>\n    <tr>\n      <th>9</th>\n      <td>20982</td>\n      <td>0</td>\n      <td>1</td>\n      <td>0</td>\n      <td>0</td>\n      <td>0</td>\n      <td>0</td>\n      <td>Properties and Origin of Galaxy Velocity Bias ...</td>\n      <td>We use the hydrodynamical galaxy formation s...</td>\n    </tr>\n    <tr>\n      <th>10</th>\n      <td>20983</td>\n      <td>0</td>\n      <td>1</td>\n      <td>0</td>\n      <td>0</td>\n      <td>0</td>\n      <td>0</td>\n      <td>Computer Modeling of Halogen Bonds and Other $...</td>\n      <td>In the field of noncovalent interactions a n...</td>\n    </tr>\n    <tr>\n      <th>11</th>\n      <td>20984</td>\n      <td>1</td>\n      <td>0</td>\n      <td>0</td>\n      <td>0</td>\n      <td>0</td>\n      <td>0</td>\n      <td>Towards Universal End-to-End Affect Recognitio...</td>\n      <td>We propose an end-to-end affect recognition ...</td>\n    </tr>\n    <tr>\n      <th>12</th>\n      <td>20985</td>\n      <td>0</td>\n      <td>1</td>\n      <td>1</td>\n      <td>0</td>\n      <td>0</td>\n      <td>0</td>\n      <td>A Variational Characterization of Fluid Sloshi...</td>\n      <td>We consider the sloshing problem for an inco...</td>\n    </tr>\n    <tr>\n      <th>13</th>\n      <td>20986</td>\n      <td>0</td>\n      <td>0</td>\n      <td>0</td>\n      <td>0</td>\n      <td>0</td>\n      <td>0</td>\n      <td>diagnoseIT: Expertengestützte automatische Dia...</td>\n      <td>This is the final report of the collaborativ...</td>\n    </tr>\n    <tr>\n      <th>14</th>\n      <td>20987</td>\n      <td>1</td>\n      <td>0</td>\n      <td>0</td>\n      <td>1</td>\n      <td>0</td>\n      <td>0</td>\n      <td>Statistical Inference in Political Networks Re...</td>\n      <td>Researchers interested in statistically mode...</td>\n    </tr>\n    <tr>\n      <th>15</th>\n      <td>20988</td>\n      <td>1</td>\n      <td>0</td>\n      <td>0</td>\n      <td>0</td>\n      <td>0</td>\n      <td>0</td>\n      <td>Controller-jammer game models of Denial of Ser...</td>\n      <td>The paper introduces a class of zero-sum gam...</td>\n    </tr>\n    <tr>\n      <th>16</th>\n      <td>20989</td>\n      <td>0</td>\n      <td>1</td>\n      <td>0</td>\n      <td>0</td>\n      <td>0</td>\n      <td>0</td>\n      <td>Conservation of spin supercurrents in supercon...</td>\n      <td>We demonstrate that spin supercurrents are c...</td>\n    </tr>\n    <tr>\n      <th>17</th>\n      <td>20990</td>\n      <td>1</td>\n      <td>0</td>\n      <td>0</td>\n      <td>0</td>\n      <td>0</td>\n      <td>0</td>\n      <td>Driver Identification Using Automobile Sensor ...</td>\n      <td>As automotive electronics continue to advanc...</td>\n    </tr>\n    <tr>\n      <th>18</th>\n      <td>20991</td>\n      <td>1</td>\n      <td>0</td>\n      <td>0</td>\n      <td>0</td>\n      <td>0</td>\n      <td>0</td>\n      <td>Same-different problems strain convolutional n...</td>\n      <td>The robust and efficient recognition of visu...</td>\n    </tr>\n    <tr>\n      <th>19</th>\n      <td>20992</td>\n      <td>1</td>\n      <td>0</td>\n      <td>0</td>\n      <td>0</td>\n      <td>0</td>\n      <td>0</td>\n      <td>Hyper-dimensional computing for a visual quest...</td>\n      <td>In this work we propose a system for visual ...</td>\n    </tr>\n  </tbody>\n</table>\n</div>"
     },
     "execution_count": 21,
     "metadata": {},
     "output_type": "execute_result"
    }
   ],
   "source": [
    "# save the dataframe as excel file\n",
    "submission_df.to_excel('submission.xlsx', index=False)\n",
    "# display the dataframe with predictions\n",
    "submission_df.head(20)"
   ],
   "metadata": {
    "collapsed": false,
    "ExecuteTime": {
     "end_time": "2023-12-06T08:30:35.445870Z",
     "start_time": "2023-12-06T08:30:34.021180Z"
    }
   }
  },
  {
   "cell_type": "markdown",
   "source": [
    "# Experimenting with a CNN Model"
   ],
   "metadata": {
    "collapsed": false
   }
  },
  {
   "cell_type": "code",
   "execution_count": null,
   "outputs": [],
   "source": [
    "from tensorflow.keras.models import Sequential\n",
    "from tensorflow.keras.layers import Embedding, Conv1D, MaxPooling1D, GlobalMaxPooling1D, Dense, Dropout, BatchNormalization\n",
    "from tensorflow.keras.regularizers import l2\n",
    "\n",
    "# Model parameters\n",
    "vocab_size = 10000\n",
    "embedding_dim = 128\n",
    "max_length = 120\n",
    "num_filters = 128\n",
    "kernel_size = 5\n",
    "pool_size = 5\n",
    "output_units = 6 # number of output units (one for each category)\n",
    "\n",
    "from tensorflow.keras.models import Sequential\n",
    "from tensorflow.keras.layers import Embedding, Conv1D, MaxPooling1D, GlobalMaxPooling1D, Dense, Dropout, BatchNormalization\n",
    "from tensorflow.keras.regularizers import l2\n",
    "\n",
    "model = Sequential()\n",
    "model.add(Embedding(vocab_size, embedding_dim, input_length=max_length))\n",
    "model.add(Conv1D(128, 3, activation='relu'))\n",
    "model.add(BatchNormalization())\n",
    "model.add(MaxPooling1D(3))\n",
    "model.add(Dropout(0.5))\n",
    "model.add(Conv1D(128, 4, activation='relu'))\n",
    "model.add(BatchNormalization())\n",
    "model.add(MaxPooling1D(4))\n",
    "model.add(Dropout(0.5))\n",
    "model.add(GlobalMaxPooling1D())\n",
    "model.add(Dense(128, activation='relu', kernel_regularizer=l2(0.01)))\n",
    "model.add(Dropout(0.5))\n",
    "model.add(Dense(output_units, activation='sigmoid'))\n",
    "\n",
    "model.compile(loss='binary_crossentropy', optimizer='Adam', metrics=['accuracy'])\n"
   ],
   "metadata": {
    "collapsed": false,
    "ExecuteTime": {
     "start_time": "2023-12-06T13:36:34.402838Z"
    }
   }
  },
  {
   "cell_type": "code",
   "execution_count": 1,
   "outputs": [
    {
     "ename": "KeyboardInterrupt",
     "evalue": "",
     "output_type": "error",
     "traceback": [
      "\u001B[0;31m---------------------------------------------------------------------------\u001B[0m",
      "\u001B[0;31mKeyboardInterrupt\u001B[0m                         Traceback (most recent call last)",
      "Cell \u001B[0;32mIn[1], line 1\u001B[0m\n\u001B[0;32m----> 1\u001B[0m \u001B[38;5;28;01mfrom\u001B[39;00m \u001B[38;5;21;01mtensorflow\u001B[39;00m\u001B[38;5;21;01m.\u001B[39;00m\u001B[38;5;21;01mkeras\u001B[39;00m\u001B[38;5;21;01m.\u001B[39;00m\u001B[38;5;21;01mutils\u001B[39;00m \u001B[38;5;28;01mimport\u001B[39;00m plot_model\n\u001B[1;32m      3\u001B[0m plot_model(model, to_file\u001B[38;5;241m=\u001B[39m\u001B[38;5;124m'\u001B[39m\u001B[38;5;124mmodel_plot.png\u001B[39m\u001B[38;5;124m'\u001B[39m, show_shapes\u001B[38;5;241m=\u001B[39m\u001B[38;5;28;01mFalse\u001B[39;00m, show_layer_names\u001B[38;5;241m=\u001B[39m\u001B[38;5;28;01mTrue\u001B[39;00m, rankdir\u001B[38;5;241m=\u001B[39m\u001B[38;5;124m'\u001B[39m\u001B[38;5;124mLR\u001B[39m\u001B[38;5;124m'\u001B[39m)\n",
      "File \u001B[0;32m~/anaconda3/lib/python3.11/site-packages/tensorflow/__init__.py:38\u001B[0m\n\u001B[1;32m     35\u001B[0m \u001B[38;5;28;01mimport\u001B[39;00m \u001B[38;5;21;01msys\u001B[39;00m \u001B[38;5;28;01mas\u001B[39;00m \u001B[38;5;21;01m_sys\u001B[39;00m\n\u001B[1;32m     36\u001B[0m \u001B[38;5;28;01mimport\u001B[39;00m \u001B[38;5;21;01mtyping\u001B[39;00m \u001B[38;5;28;01mas\u001B[39;00m \u001B[38;5;21;01m_typing\u001B[39;00m\n\u001B[0;32m---> 38\u001B[0m \u001B[38;5;28;01mfrom\u001B[39;00m \u001B[38;5;21;01mtensorflow\u001B[39;00m\u001B[38;5;21;01m.\u001B[39;00m\u001B[38;5;21;01mpython\u001B[39;00m\u001B[38;5;21;01m.\u001B[39;00m\u001B[38;5;21;01mtools\u001B[39;00m \u001B[38;5;28;01mimport\u001B[39;00m module_util \u001B[38;5;28;01mas\u001B[39;00m _module_util\n\u001B[1;32m     39\u001B[0m \u001B[38;5;28;01mfrom\u001B[39;00m \u001B[38;5;21;01mtensorflow\u001B[39;00m\u001B[38;5;21;01m.\u001B[39;00m\u001B[38;5;21;01mpython\u001B[39;00m\u001B[38;5;21;01m.\u001B[39;00m\u001B[38;5;21;01mutil\u001B[39;00m\u001B[38;5;21;01m.\u001B[39;00m\u001B[38;5;21;01mlazy_loader\u001B[39;00m \u001B[38;5;28;01mimport\u001B[39;00m LazyLoader \u001B[38;5;28;01mas\u001B[39;00m _LazyLoader\n\u001B[1;32m     41\u001B[0m \u001B[38;5;66;03m# Make sure code inside the TensorFlow codebase can use tf2.enabled() at import.\u001B[39;00m\n",
      "File \u001B[0;32m~/anaconda3/lib/python3.11/site-packages/tensorflow/python/__init__.py:42\u001B[0m\n\u001B[1;32m     36\u001B[0m \u001B[38;5;28;01mfrom\u001B[39;00m \u001B[38;5;21;01mtensorflow\u001B[39;00m\u001B[38;5;21;01m.\u001B[39;00m\u001B[38;5;21;01mpython\u001B[39;00m \u001B[38;5;28;01mimport\u001B[39;00m pywrap_tensorflow \u001B[38;5;28;01mas\u001B[39;00m _pywrap_tensorflow\n\u001B[1;32m     38\u001B[0m \u001B[38;5;66;03m# pylint: enable=wildcard-import\u001B[39;00m\n\u001B[1;32m     39\u001B[0m \n\u001B[1;32m     40\u001B[0m \u001B[38;5;66;03m# from tensorflow.python import keras\u001B[39;00m\n\u001B[1;32m     41\u001B[0m \u001B[38;5;66;03m# from tensorflow.python.layers import layers\u001B[39;00m\n\u001B[0;32m---> 42\u001B[0m \u001B[38;5;28;01mfrom\u001B[39;00m \u001B[38;5;21;01mtensorflow\u001B[39;00m\u001B[38;5;21;01m.\u001B[39;00m\u001B[38;5;21;01mpython\u001B[39;00m\u001B[38;5;21;01m.\u001B[39;00m\u001B[38;5;21;01msaved_model\u001B[39;00m \u001B[38;5;28;01mimport\u001B[39;00m saved_model\n\u001B[1;32m     43\u001B[0m \u001B[38;5;28;01mfrom\u001B[39;00m \u001B[38;5;21;01mtensorflow\u001B[39;00m\u001B[38;5;21;01m.\u001B[39;00m\u001B[38;5;21;01mpython\u001B[39;00m\u001B[38;5;21;01m.\u001B[39;00m\u001B[38;5;21;01mtpu\u001B[39;00m \u001B[38;5;28;01mimport\u001B[39;00m api\n\u001B[1;32m     45\u001B[0m \u001B[38;5;66;03m# Sub-package for performing i/o directly instead of via ops in a graph.\u001B[39;00m\n",
      "File \u001B[0;32m~/anaconda3/lib/python3.11/site-packages/tensorflow/python/saved_model/saved_model.py:35\u001B[0m\n\u001B[1;32m     32\u001B[0m \u001B[38;5;28;01mfrom\u001B[39;00m \u001B[38;5;21;01mtensorflow\u001B[39;00m\u001B[38;5;21;01m.\u001B[39;00m\u001B[38;5;21;01mpython\u001B[39;00m\u001B[38;5;21;01m.\u001B[39;00m\u001B[38;5;21;01msaved_model\u001B[39;00m\u001B[38;5;21;01m.\u001B[39;00m\u001B[38;5;21;01msave\u001B[39;00m \u001B[38;5;28;01mimport\u001B[39;00m save\n\u001B[1;32m     33\u001B[0m \u001B[38;5;66;03m# pylint: enable=unused-import\u001B[39;00m\n\u001B[1;32m     34\u001B[0m \u001B[38;5;66;03m# pylint: disable=wildcard-import\u001B[39;00m\n\u001B[0;32m---> 35\u001B[0m \u001B[38;5;28;01mfrom\u001B[39;00m \u001B[38;5;21;01mtensorflow\u001B[39;00m\u001B[38;5;21;01m.\u001B[39;00m\u001B[38;5;21;01mpython\u001B[39;00m\u001B[38;5;21;01m.\u001B[39;00m\u001B[38;5;21;01msaved_model\u001B[39;00m\u001B[38;5;21;01m.\u001B[39;00m\u001B[38;5;21;01msimple_save\u001B[39;00m \u001B[38;5;28;01mimport\u001B[39;00m \u001B[38;5;241m*\u001B[39m\n",
      "File \u001B[0;32m<frozen importlib._bootstrap>:1176\u001B[0m, in \u001B[0;36m_find_and_load\u001B[0;34m(name, import_)\u001B[0m\n",
      "File \u001B[0;32m<frozen importlib._bootstrap>:1138\u001B[0m, in \u001B[0;36m_find_and_load_unlocked\u001B[0;34m(name, import_)\u001B[0m\n",
      "File \u001B[0;32m<frozen importlib._bootstrap>:1078\u001B[0m, in \u001B[0;36m_find_spec\u001B[0;34m(name, path, target)\u001B[0m\n",
      "File \u001B[0;32m<frozen importlib._bootstrap_external>:1504\u001B[0m, in \u001B[0;36mfind_spec\u001B[0;34m(cls, fullname, path, target)\u001B[0m\n",
      "File \u001B[0;32m<frozen importlib._bootstrap_external>:1476\u001B[0m, in \u001B[0;36m_get_spec\u001B[0;34m(cls, fullname, path, target)\u001B[0m\n",
      "File \u001B[0;32m<frozen importlib._bootstrap_external>:1646\u001B[0m, in \u001B[0;36mfind_spec\u001B[0;34m(self, fullname, target)\u001B[0m\n",
      "File \u001B[0;32m<frozen importlib._bootstrap_external>:1601\u001B[0m, in \u001B[0;36m_get_spec\u001B[0;34m(self, loader_class, fullname, path, smsl, target)\u001B[0m\n",
      "File \u001B[0;32m<frozen importlib._bootstrap_external>:778\u001B[0m, in \u001B[0;36mspec_from_file_location\u001B[0;34m(name, location, loader, submodule_search_locations)\u001B[0m\n",
      "\u001B[0;31mKeyboardInterrupt\u001B[0m: "
     ]
    }
   ],
   "source": [
    "from tensorflow.keras.utils import plot_model\n",
    "\n",
    "plot_model(model, to_file='model_plot.png', show_shapes=False, show_layer_names=True, rankdir='LR')"
   ],
   "metadata": {
    "collapsed": false,
    "ExecuteTime": {
     "end_time": "2023-12-06T13:36:34.404649Z",
     "start_time": "2023-12-06T13:36:31.895765Z"
    }
   }
  },
  {
   "cell_type": "code",
   "execution_count": null,
   "outputs": [],
   "source": [
    "# Training parameters\n",
    "epochs = 10\n",
    "batch_size = 128\n",
    "\n",
    "history = model.fit(X_train, y_train,\n",
    "                    epochs=epochs,\n",
    "                    batch_size=batch_size,\n",
    "                    validation_data=(X_val, y_val),\n",
    "                    verbose=1)"
   ],
   "metadata": {
    "collapsed": false,
    "is_executing": true
   }
  },
  {
   "cell_type": "raw",
   "source": [
    "# save the model\n",
    "model.save('research_paper_classification_CNN2.keras')"
   ],
   "metadata": {
    "collapsed": false
   }
  },
  {
   "cell_type": "code",
   "execution_count": null,
   "outputs": [],
   "source": [
    "# Plotting training and validation accuracy\n",
    "plt.figure(figsize=(12, 4))\n",
    "plt.subplot(1, 2, 1)\n",
    "plt.plot(history.history['accuracy'], label='Training Accuracy')\n",
    "plt.plot(history.history['val_accuracy'], label='Validation Accuracy')\n",
    "plt.title('Training and Validation Accuracy')\n",
    "plt.legend()\n",
    "\n",
    "# Plotting training and validation loss\n",
    "plt.subplot(1, 2, 2)\n",
    "plt.plot(history.history['loss'], label='Training Loss')\n",
    "plt.plot(history.history['val_loss'], label='Validation Loss')\n",
    "plt.title('Training and Validation Loss')\n",
    "plt.legend()"
   ],
   "metadata": {
    "collapsed": false,
    "is_executing": true
   }
  },
  {
   "cell_type": "code",
   "execution_count": null,
   "outputs": [],
   "source": [
    "loss, accuracy = model.evaluate(X_val, y_val, verbose=2)\n",
    "print(f\"Validation Accuracy: {accuracy * 100:.2f}%\")"
   ],
   "metadata": {
    "collapsed": false,
    "is_executing": true
   }
  }
 ],
 "metadata": {
  "kernelspec": {
   "display_name": "Python 3",
   "language": "python",
   "name": "python3"
  },
  "language_info": {
   "codemirror_mode": {
    "name": "ipython",
    "version": 2
   },
   "file_extension": ".py",
   "mimetype": "text/x-python",
   "name": "python",
   "nbconvert_exporter": "python",
   "pygments_lexer": "ipython2",
   "version": "2.7.6"
  }
 },
 "nbformat": 4,
 "nbformat_minor": 0
}
